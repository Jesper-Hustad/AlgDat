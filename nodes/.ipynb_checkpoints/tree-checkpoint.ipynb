{
 "cells": [
  {
   "cell_type": "code",
   "execution_count": 13,
   "metadata": {},
   "outputs": [],
   "source": [
    "from anytree import Node, RenderTree\n",
    "\n",
    "\n",
    "servant = {\"name\": \"mr jeves\",\"job\":\"servant\"}\n",
    "udo = Node(\"Udo\")\n",
    "serv = Node(servant, parent=udo)\n",
    "marc = Node(\"Marc\", parent=udo)\n",
    "lian = Node(\"Lian\", parent=marc)\n",
    "dan = Node(\"Dan\", parent=udo)\n",
    "jet = Node(\"Jet\", parent=dan)\n",
    "jan = Node(\"Jan\", parent=dan)\n",
    "joe = Node(\"Joe\", parent=dan)"
   ]
  },
  {
   "cell_type": "code",
   "execution_count": 5,
   "metadata": {},
   "outputs": [
    {
     "name": "stdout",
     "output_type": "stream",
     "text": [
      "Node('/Udo')\n",
      "Node('/Udo/Dan/Joe')\n"
     ]
    }
   ],
   "source": [
    "print(udo)\n",
    "print(joe)"
   ]
  },
  {
   "cell_type": "code",
   "execution_count": 15,
   "metadata": {
    "scrolled": true
   },
   "outputs": [],
   "source": [
    "def printTree(root):\n",
    "    for pre, fill, node in RenderTree(root):\n",
    "        print(\"%s%s\" % (pre, node.name))"
   ]
  },
  {
   "cell_type": "code",
   "execution_count": 16,
   "metadata": {
    "scrolled": true
   },
   "outputs": [
    {
     "name": "stdout",
     "output_type": "stream",
     "text": [
      "Udo\n",
      "├── {'name': 'mr jeves', 'job': 'servant'}\n",
      "├── Marc\n",
      "│   └── Lian\n",
      "└── Dan\n",
      "    ├── Jet\n",
      "    ├── Jan\n",
      "    └── Joe\n",
      "(Node('/Udo/Dan/Jet'), Node('/Udo/Dan/Jan'), Node('/Udo/Dan/Joe'))\n"
     ]
    }
   ],
   "source": [
    "printTree(udo)\n",
    "print(dan.children)"
   ]
  },
  {
   "cell_type": "code",
   "execution_count": 61,
   "metadata": {},
   "outputs": [],
   "source": [
    "class Node:\n",
    "    def __init__(self, data):\n",
    "        self.data = data\n",
    "        self.next = None\n",
    "\n",
    "    def __repr__(self):\n",
    "        return self.data\n",
    "\n",
    "class LinkedList:\n",
    "    def __init__(self):\n",
    "        self.head = None\n",
    "        \n",
    "    def __iter__(self):\n",
    "    node = self.head\n",
    "    while node is not None:\n",
    "        yield node\n",
    "        node = node.next\n",
    "\n",
    "    def __repr__(self):\n",
    "        node = self.head\n",
    "        nodes = []\n",
    "        while node is not None:\n",
    "            nodes.append(node.data)\n",
    "            node = node.next\n",
    "        nodes.append(\"None\")\n",
    "        return \" -> \".join(nodes)"
   ]
  },
  {
   "cell_type": "code",
   "execution_count": 63,
   "metadata": {},
   "outputs": [
    {
     "name": "stdout",
     "output_type": "stream",
     "text": [
      "None\n",
      "a -> None\n",
      "a -> b -> c -> None\n"
     ]
    }
   ],
   "source": [
    "llist = LinkedList()\n",
    "print(llist)\n",
    "\n",
    "\n",
    "first_node = Node(\"a\")\n",
    "llist.head = first_node\n",
    "print(llist)\n",
    "\n",
    "second_node = Node(\"b\")\n",
    "third_node = Node(\"c\")\n",
    "first_node.next = second_node\n",
    "second_node.next = third_node\n",
    "print(llist)"
   ]
  },
  {
   "cell_type": "markdown",
   "metadata": {},
   "source": [
    "---------------\n",
    "## Deloppgave 1, lenka lister  \n",
    "Fra de forrige arbeidskravene har jeg blitt inspirert til å implementere funksjonene på en rekursiv måte.  \n",
    "Brukte en \"getattr()\" metode som man kan sette en default value for (f.eks. 0 eller None), dette gjorde at jeg ikke måtte implementere masse ekstra kode for å sjekke om atributtene eksisterte hele tiden.  \n",
    "Brukte et bilotek som heter pyllist (Python Linked List) for lenka lister, denne hadde en hjelpsom funksjon som omgjorde en array til lenka liste som sparte mye tid/kode."
   ]
  },
  {
   "cell_type": "code",
   "execution_count": 175,
   "metadata": {},
   "outputs": [],
   "source": [
    "from pyllist import dllist, dllistnode\n",
    "\n",
    "def calcBigNums(arg):\n",
    "\n",
    "    def addLinked(a, b, carry=0, result=dllist()):\n",
    "\n",
    "        if a is None and b is None: \n",
    "            if carry > 0: result.appendleft(1)\n",
    "            return result\n",
    "\n",
    "        aVal, bVal = getattr(a, 'value', 0), getattr(b, 'value', 0)\n",
    "        addition =  aVal + bVal + carry\n",
    "\n",
    "    #   appending addition to result\n",
    "        current = addition % 10\n",
    "        result.appendleft(current)\n",
    "\n",
    "        nextA, nextB = getattr(a, 'prev', None), getattr(b, 'prev', None)\n",
    "        nextCarry = addition // 10\n",
    "\n",
    "    #   run process again on next number\n",
    "        return addLinked(nextA, nextB, nextCarry, result)\n",
    "\n",
    "\n",
    "    def diffLinked(a, b, loans=False, result=dllist()):\n",
    "\n",
    "        if a is None and b is None:\n",
    "            while result.first.value == 0: result.popleft()\n",
    "            return result\n",
    "\n",
    "        loanCost = 1 if loans else 0\n",
    "        aVal, bVal = getattr(a, 'value', 0), getattr(b, 'value', 0)\n",
    "        subtraction =  aVal - bVal - loanCost\n",
    "\n",
    "    #   add 10 if current period needs to loan\n",
    "        loans = subtraction < 0\n",
    "        if loans: subtraction += 10\n",
    "\n",
    "        result.appendleft(subtraction)\n",
    "\n",
    "        nextA, nextB = getattr(a, 'prev', None), getattr(b, 'prev', None)\n",
    "\n",
    "        return diffLinked(nextA, nextB, loans, result)\n",
    "\n",
    "    \n",
    "#   defining vars\n",
    "    args = arg.split(\" \")\n",
    "    numOne, operator, numTwo = args[0], args[1], args[2]\n",
    "    \n",
    "    n1 = dllist([int(n) for n in list(numOne)])\n",
    "    n2 = dllist([int(n) for n in list(numTwo)])\n",
    "    \n",
    "#   getting result\n",
    "    result = addLinked(n1.last, n2.last) if operator == \"+\" else diffLinked(n1.last, n2.last)\n",
    "    \n",
    "#   pretty print results\n",
    "    resultStr = \"\".join([str(n.value) for n in result.iternodes()])\n",
    "    nums = [numOne, numTwo, resultStr]\n",
    "    longest = len(max(nums, key=len))\n",
    "    ops = [\" \", operator, \"=\"]\n",
    "    \n",
    "    for i in range(3): print('{} {:>{fill}}'.format(ops[i] ,nums[i] , fill=longest))"
   ]
  },
  {
   "cell_type": "markdown",
   "metadata": {},
   "source": [
    "## Resultat"
   ]
  },
  {
   "cell_type": "code",
   "execution_count": 176,
   "metadata": {},
   "outputs": [
    {
     "name": "stdout",
     "output_type": "stream",
     "text": [
      "  100000000019999999999001\n",
      "+                   100007\n",
      "= 100000000020000000099008\n"
     ]
    }
   ],
   "source": [
    "calcBigNums(\"100000000019999999999001 + 100007\")"
   ]
  },
  {
   "cell_type": "code",
   "execution_count": 177,
   "metadata": {},
   "outputs": [
    {
     "name": "stdout",
     "output_type": "stream",
     "text": [
      "  840000000000000200000\n",
      "- 100000000007000060004\n",
      "= 739999999993000139996\n"
     ]
    }
   ],
   "source": [
    "calcBigNums(\"840000000000000200000 - 100000000007000060004\")"
   ]
  },
  {
   "cell_type": "markdown",
   "metadata": {},
   "source": [
    "---------\n",
    "## Deloppgave 2, trær  \n"
   ]
  },
  {
   "cell_type": "markdown",
   "metadata": {},
   "source": []
  },
  {
   "cell_type": "code",
   "execution_count": 168,
   "metadata": {},
   "outputs": [
    {
     "name": "stdout",
     "output_type": "stream",
     "text": [
      "lmao\n"
     ]
    }
   ],
   "source": [
    "o = dllist([2,6])\n",
    "\n",
    "f = getattr(o.first.prev, 'prev', \"lmao\")\n",
    "print(f)\n"
   ]
  },
  {
   "cell_type": "code",
   "execution_count": null,
   "metadata": {},
   "outputs": [],
   "source": []
  }
 ],
 "metadata": {
  "kernelspec": {
   "display_name": "Python 3",
   "language": "python",
   "name": "python3"
  },
  "language_info": {
   "codemirror_mode": {
    "name": "ipython",
    "version": 3
   },
   "file_extension": ".py",
   "mimetype": "text/x-python",
   "name": "python",
   "nbconvert_exporter": "python",
   "pygments_lexer": "ipython3",
   "version": "3.8.5"
  }
 },
 "nbformat": 4,
 "nbformat_minor": 4
}
